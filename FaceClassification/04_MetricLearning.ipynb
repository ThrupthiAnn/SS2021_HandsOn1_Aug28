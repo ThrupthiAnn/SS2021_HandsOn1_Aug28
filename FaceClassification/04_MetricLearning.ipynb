{
  "nbformat": 4,
  "nbformat_minor": 0,
  "metadata": {
    "kernelspec": {
      "display_name": "Python 3",
      "language": "python",
      "name": "python3"
    },
    "language_info": {
      "codemirror_mode": {
        "name": "ipython",
        "version": 3
      },
      "file_extension": ".py",
      "mimetype": "text/x-python",
      "name": "python",
      "nbconvert_exporter": "python",
      "pygments_lexer": "ipython3",
      "version": "3.8.5"
    },
    "colab": {
      "name": "04_MetricLearning.ipynb",
      "provenance": [],
      "include_colab_link": true
    },
    "accelerator": "GPU"
  },
  "cells": [
    {
      "cell_type": "markdown",
      "metadata": {
        "id": "view-in-github",
        "colab_type": "text"
      },
      "source": [
        "<a href=\"https://colab.research.google.com/github/Ektagavas/CVSummerSchool2021/blob/main/Biometrics/04_MetricLearning.ipynb\" target=\"_parent\"><img src=\"https://colab.research.google.com/assets/colab-badge.svg\" alt=\"Open In Colab\"/></a>"
      ]
    },
    {
      "cell_type": "markdown",
      "metadata": {
        "id": "M3o2WYrFkkiz"
      },
      "source": [
        "### Metric Learning\n",
        "In the previous tutorial, we saw how the pre-trained VGG-Face representations, combined with a distance metric (L2-distance) helped us in the problem of face verification i.e. determining whether two face images belong to the same identity or not. \n",
        "\n",
        "But we know that metrics such as L1 or L2 may not always be optimal for the task at hand. So in this tutorial, we will see if we can \"learn\" such distance metrics from the data, and whether that leads to an improvement in verification peformance.\n",
        "\n",
        "There are cases where a simple L2 distance in the representation space may not preserve the semantic similarity between instances of the same class. Consider the example shown below. Let us assume that the squares and the circles represent instances belonging to two different classes. It is evident that the original D-dimensional representation space does not do a good job in separating the two classes. In such cases, we attempt to learn a $d \\times D$ matrix L from the data such that the points are separated in a much better fashion in the projected space. That is, the L2-distances between pairs of points $x_i$ and $x_j$ in the projected space, given by $ ||\\;Lx_i - Lx_j\\;||_2^2 $ are such that similar points are brought closer together whereas dissimilar points are pushed apart.\n",
        "\n",
        "<img src=\"https://github.com/Ektagavas/CVSummerSchool2021/blob/main/Biometrics/images/ml-proj.png?raw=1\">\n",
        "\n",
        "Such forms of metric learning approaches serve a dual purpose -- (a) they help in learning better metrics by bringing similar points closer and pushng dissimilar points away, and (b) they help in learning a compact and discriminative d-dimensional representation where $ d << D $ i.e. they also help in reducing the dimensionality of our face descriptors thereby making them suitable for large-scale applications.\n",
        "\n",
        "In this tutorial, we will see how we can use face pairs from the CFPW dataset to learn a projection matrix that helps us generate compact and discriminative low-dimensional projections. We will also see whether these compact descriptors lead to a better verification performance than what we observed in the previous tutorial."
      ]
    },
    {
      "cell_type": "code",
      "metadata": {
        "execution": {
          "iopub.execute_input": "2021-08-21T03:18:40.697412Z",
          "iopub.status.busy": "2021-08-21T03:18:40.697191Z",
          "iopub.status.idle": "2021-08-21T03:18:40.818577Z",
          "shell.execute_reply": "2021-08-21T03:18:40.818072Z",
          "shell.execute_reply.started": "2021-08-21T03:18:40.697389Z"
        },
        "tags": [],
        "id": "ZpmWjcHdkki6"
      },
      "source": [
        "import cv2, math\n",
        "import numpy as np\n",
        "import os\n",
        "\n",
        "import torch\n",
        "import torch.nn\n",
        "import torch.nn.functional as F\n",
        "import torch.optim as optim\n",
        "import torchvision.models\n",
        "\n",
        "from sklearn import metrics\n",
        "from scipy.optimize import brentq\n",
        "from scipy.interpolate import interp1d\n",
        "\n",
        "import matplotlib.pyplot as plt\n",
        "import matplotlib.image as mpimg\n",
        "%matplotlib inline \n",
        "plt.ion()"
      ],
      "execution_count": null,
      "outputs": []
    },
    {
      "cell_type": "code",
      "metadata": {
        "collapsed": true,
        "id": "YuM0d_Hnktlr"
      },
      "source": [
        "# download all the data for this notebook.\n",
        "# Warning! This data is hosted on a personal Google drive and may be taken off at any time. \n",
        "#Also, the file is quite big, so please have patience!\n",
        "\n",
        "!wget --load-cookies /tmp/cookies.txt \"https://docs.google.com/uc?export=download&confirm=$(wget --quiet --save-cookies /tmp/cookies.txt --keep-session-cookies --no-check-certificate 'https://docs.google.com/uc?export=download&id=16O8OmhRn76m8SlIjPNhnwVnWk2djKhak' -O- | sed -rn 's/.*confirm=([0-9A-Za-z_]+).*/\\1\\n/p')&id=16O8OmhRn76m8SlIjPNhnwVnWk2djKhak\" -O data.zip && rm -rf /tmp/cookies.txt\n",
        "!unzip data.zip"
      ],
      "execution_count": null,
      "outputs": []
    },
    {
      "cell_type": "code",
      "metadata": {
        "execution": {
          "iopub.execute_input": "2021-08-21T03:08:44.395627Z",
          "iopub.status.busy": "2021-08-21T03:08:44.395396Z",
          "iopub.status.idle": "2021-08-21T03:08:44.407837Z",
          "shell.execute_reply": "2021-08-21T03:08:44.407165Z",
          "shell.execute_reply.started": "2021-08-21T03:08:44.395604Z"
        },
        "tags": [],
        "collapsed": true,
        "id": "JTHH_FI-kki8"
      },
      "source": [
        "root = 'data'\n",
        "eroot = os.path.join(root, 'Experiment_3')\n",
        "device = \"cuda\" if torch.cuda.is_available() else \"cpu\"\n",
        "print(f\"Using {device} device\")"
      ],
      "execution_count": null,
      "outputs": []
    },
    {
      "cell_type": "markdown",
      "metadata": {
        "id": "bJgKAYCmkki-"
      },
      "source": [
        "Again, we define certain utility functions to load, pre-process data and also generate the pre-trained face descriptors. This should be familiar to you by now."
      ]
    },
    {
      "cell_type": "code",
      "metadata": {
        "execution": {
          "iopub.execute_input": "2021-08-21T03:09:50.017300Z",
          "iopub.status.busy": "2021-08-21T03:09:50.017089Z",
          "iopub.status.idle": "2021-08-21T03:09:50.023340Z",
          "shell.execute_reply": "2021-08-21T03:09:50.022699Z",
          "shell.execute_reply.started": "2021-08-21T03:09:50.017279Z"
        },
        "tags": [],
        "id": "G0jHNIA3kki_"
      },
      "source": [
        "def loadImage(imgPath):\n",
        "    inputImg = cv2.imread(imgPath)\n",
        "\n",
        "    # re-scale the smaller dim (among width, height) to refSize\n",
        "    refSize, targetSize = 256, 224\n",
        "    imgRows, imgCols = inputImg.shape[0], inputImg.shape[1]\n",
        "    if imgCols < imgRows: resizedImg = cv2.resize(inputImg, (refSize, int(refSize * imgRows / imgCols)))\n",
        "    else: resizedImg = cv2.resize(inputImg, (int(refSize * imgCols / imgRows), refSize))\n",
        "\n",
        "    # center-crop\n",
        "    oH, oW = targetSize, targetSize\n",
        "    iH, iW = resizedImg.shape[0], resizedImg.shape[1]\n",
        "    anchorH, anchorW = int(math.ceil((iH - oH)/2)), int(math.ceil((iW - oW) / 2))\n",
        "    croppedImg = resizedImg[anchorH:anchorH+oH, anchorW:anchorW+oW]\n",
        "\n",
        "    # convert shape from (height, width, 3) to (3, width, height)\n",
        "    channel_1, channel_2, channel_3 = croppedImg[:, :, 0], croppedImg[:, :, 1], croppedImg[:, :, 2]\n",
        "    croppedImg = np.empty([3, croppedImg.shape[0], croppedImg.shape[1]])\n",
        "    croppedImg[0], croppedImg[1], croppedImg[2] = channel_1, channel_2, channel_3\n",
        "\n",
        "    # subtract training mean\n",
        "    inputImg = inputImg.astype(float)\n",
        "    trainingMean = [129.1863, 104.7624, 93.5940]\n",
        "    for i in range(3): croppedImg[i] = croppedImg[i] - trainingMean[i]\n",
        "    return croppedImg"
      ],
      "execution_count": null,
      "outputs": []
    },
    {
      "cell_type": "code",
      "metadata": {
        "execution": {
          "iopub.execute_input": "2021-08-21T03:10:11.683373Z",
          "iopub.status.busy": "2021-08-21T03:10:11.683154Z",
          "iopub.status.idle": "2021-08-21T03:10:11.690180Z",
          "shell.execute_reply": "2021-08-21T03:10:11.689385Z",
          "shell.execute_reply.started": "2021-08-21T03:10:11.683350Z"
        },
        "tags": [],
        "id": "1lwJIUZukkjB"
      },
      "source": [
        "def loadVGGModel( filename):\n",
        "\tdat2 = torch.load(filename)\n",
        "\t# copy dictionary\n",
        "\tif str.split(list(dat2.keys())[0],'.')[0] == 'module':\n",
        "\t\tdat = {}\n",
        "\t\tfor key in dat2.keys():\n",
        "\t\t\tk = '.'.join(str.split(key,'.')[1:])\n",
        "\t\t\tdat[k] = dat2[key]\n",
        "\telse:\n",
        "\t\tdat = dat2\n",
        "\t\t\n",
        "\tn_classes = dat['classifier.6.bias'].shape[0]\n",
        "\tmodel = torchvision.models.vgg16(pretrained = False)\n",
        "\tlastlayer = torch.nn.Linear(in_features = model.classifier[-1].in_features, \\\n",
        "\t\t\t\t\t\t\t   out_features = n_classes, \\\n",
        "\t\t\t\t\t\t\t   bias = True)\n",
        "\tmodel.classifier[-1] = lastlayer\n",
        "\tmodel.load_state_dict(dat)\n",
        "\treturn model\n",
        "\n",
        "def getFeature(x, model):\n",
        "\t# replicate the forward function\n",
        "\tx = model.features(x)\n",
        "\tx = model.avgpool(x)\n",
        "\tx = torch.flatten(x, 1)\n",
        "\t# forward pass only through the first 4 layers of the classifier\n",
        "\tfor ii in range(4):\n",
        "\t\tx = model.classifier[ii](x)\n",
        "\treturn x\n",
        "\n",
        "def getVggFeatures(imgPaths, preTrainedNet):\n",
        "    nImgs = len(imgPaths)\n",
        "    \n",
        "    batchInput = torch.Tensor(nImgs, 3, 224, 224)\n",
        "    for i in range(nImgs): batchInput[i] = torch.from_numpy(loadImage(imgPaths[i]))\n",
        "    \n",
        "    batchOutput = getFeature(batchInput.to(device), preTrainedNet)\n",
        "    return batchOutput.detach().cpu()"
      ],
      "execution_count": null,
      "outputs": []
    },
    {
      "cell_type": "markdown",
      "metadata": {
        "id": "LYPS23ZHkkjC"
      },
      "source": [
        "### Network Architecture\n",
        "Recall that our aim is to learn a simple projection matrix over the pre-trained, D = 4096-d face representations so that the resultant compact descriptors are able to better separate face pairs in terms of identity (become better at face verification). we also know that the operation performed by an fc-layer is exactly the same as a matrix-vector product. So, our network architecture would essentially consist of learning a d = 64 dimensional linear layer over the pre-trained VGG-Face descriptors.\n",
        "\n",
        "However, there is a difference in the manner in which we are going to train this network. Traditional CNN architectures for classification are trained using images and their corresponding class labels. Here, however, our network is learning to separate(bring together) (dis)similar face pairs. This means that the training should also happen in the form of image pairs where the label asosciated with each image pair during training tells us whether the faces in the pair belong to the same identity or not.\n",
        "\n",
        "A conceptually convenient way to represent such networks schematically is to visualize this as two identical networks (which share all weights and biases) where each of the network accepts one image from the pair and computes the respective representations. Such networks are called Siamese networks (figure below).\n",
        "\n",
        "<img src=\"https://github.com/Ektagavas/CVSummerSchool2021/blob/main/Biometrics/images/siamese.png?raw=1\">\n",
        "\n",
        "Keeping this in mind, we define the architcture of our Siamese netowrk in PyTorch. Note that the final output of our network is not some feature vector or a vector of log-likelihoods. Instead, the output is the L2 distance between the representations that have been computed by each branch of the Siamese network. During the process of training, the network learns to minimize/maximize this L2 distance depending upon whether the input images are similar/dissimilar."
      ]
    },
    {
      "cell_type": "code",
      "metadata": {
        "execution": {
          "iopub.execute_input": "2021-08-21T03:11:31.691702Z",
          "iopub.status.busy": "2021-08-21T03:11:31.691475Z",
          "iopub.status.idle": "2021-08-21T03:11:31.695619Z",
          "shell.execute_reply": "2021-08-21T03:11:31.695017Z",
          "shell.execute_reply.started": "2021-08-21T03:11:31.691680Z"
        },
        "tags": [],
        "id": "RhYOWDklkkjG"
      },
      "source": [
        "class Siamese(torch.nn.Module):\n",
        "    def __init__(self):\n",
        "        super(Siamese, self).__init__()\n",
        "        self.fc1 = torch.nn.Linear(4096, 64)\n",
        "\n",
        "    def forward(self, x1, x2):\n",
        "        o1 = self.fc1(x1)\n",
        "        o2 = self.fc1(x2)\n",
        "        o = torch.sqrt(torch.sum(torch.mul(o1-o2, o1-o2), 1))\n",
        "        return o"
      ],
      "execution_count": null,
      "outputs": []
    },
    {
      "cell_type": "markdown",
      "metadata": {
        "id": "Bs82IRztkkjI"
      },
      "source": [
        "A subtle point that needs to be remembered is that the two networks in the Siamese architecture are merely for representational convenience. There is only a single network which exists in memory at all times.\n",
        "\n",
        "We have consolidated the code for getting L2 distances between pairs of images in our dataset in the form of a function definition. This code is similar to the one that we saw in the previous tutorial."
      ]
    },
    {
      "cell_type": "code",
      "metadata": {
        "execution": {
          "iopub.execute_input": "2021-08-21T03:29:44.795137Z",
          "iopub.status.busy": "2021-08-21T03:29:44.794905Z",
          "iopub.status.idle": "2021-08-21T03:29:44.800530Z",
          "shell.execute_reply": "2021-08-21T03:29:44.799880Z",
          "shell.execute_reply.started": "2021-08-21T03:29:44.795114Z"
        },
        "tags": [],
        "id": "sR3--hakkkjK"
      },
      "source": [
        "def evaluate(net, dataset):\n",
        "    nPairs, batchSize = len(dataset), 10\n",
        "    classifierScores, labels = [], []\n",
        "    \n",
        "    for startIdx in range(0, nPairs, batchSize):\n",
        "        endIdx = min(startIdx+batchSize-1, nPairs-1)\n",
        "        size = (endIdx - startIdx + 1)\n",
        "\n",
        "        imgPaths1, imgPaths2, batchLabels = [], [], []\n",
        "        for offset in range(size):\n",
        "            pair = dataset[startIdx+offset]\n",
        "            imgPaths1.append(os.path.join(eroot, pair.img1))\n",
        "            imgPaths2.append(os.path.join(eroot, pair.img2))\n",
        "            batchLabels.append(int(pair.label) * -1)\n",
        "    \n",
        "        descrs1 = getVggFeatures(imgPaths1, vggFace).clone()\n",
        "        descrs2 = getVggFeatures(imgPaths2, vggFace).clone()\n",
        "        batchOutput = net(descrs1.to(device), descrs2.to(device))\n",
        "        \n",
        "        classifierScores += batchOutput.data.cpu().numpy().tolist()\n",
        "        labels += batchLabels\n",
        "    \n",
        "    return classifierScores, labels"
      ],
      "execution_count": null,
      "outputs": []
    },
    {
      "cell_type": "code",
      "metadata": {
        "execution": {
          "iopub.execute_input": "2021-08-21T03:29:45.621673Z",
          "iopub.status.busy": "2021-08-21T03:29:45.621457Z",
          "iopub.status.idle": "2021-08-21T03:29:45.626926Z",
          "shell.execute_reply": "2021-08-21T03:29:45.626262Z",
          "shell.execute_reply.started": "2021-08-21T03:29:45.621651Z"
        },
        "tags": [],
        "id": "qtOR8VBvkkjL"
      },
      "source": [
        "class Metrics():\n",
        "    def __init__(self, classifierScores, labels):\n",
        "        self.scores = classifierScores\n",
        "        self.labels = labels\n",
        "\n",
        "    def getAvgDist(self):\n",
        "        nSim, nDiss = 0, 0\n",
        "        avgDistSim, avgDistDiss = 0.0, 0.0\n",
        "        for i in range(len(self.scores)):\n",
        "            if self.labels[i] == 1: \n",
        "                avgDistDiss += self.scores[i] \n",
        "                nDiss += 1\n",
        "            else: \n",
        "                avgDistSim += self.scores[i]\n",
        "                nSim += 1\n",
        "        return avgDistSim/nSim, avgDistDiss/nDiss\n",
        "    \n",
        "    def getROC(self):\n",
        "        fpr, tpr, thresholds = metrics.roc_curve(self.labels, self.scores)\n",
        "        auc = metrics.auc(fpr, tpr)\n",
        "        eer, r = brentq(lambda x : 1. - x - interp1d(fpr, tpr)(x), 0., 1., full_output=True)\n",
        "        return eer, auc, fpr, tpr"
      ],
      "execution_count": null,
      "outputs": []
    },
    {
      "cell_type": "markdown",
      "metadata": {
        "id": "iWdsg_omkkjM"
      },
      "source": [
        "The dataset (CFPW) remains the same as the last tutorial. As always, we also load the pre-trained VGG-Face model."
      ]
    },
    {
      "cell_type": "code",
      "metadata": {
        "execution": {
          "iopub.execute_input": "2021-08-21T03:29:46.509005Z",
          "iopub.status.busy": "2021-08-21T03:29:46.508783Z",
          "iopub.status.idle": "2021-08-21T03:29:46.512841Z",
          "shell.execute_reply": "2021-08-21T03:29:46.512052Z",
          "shell.execute_reply.started": "2021-08-21T03:29:46.508982Z"
        },
        "jupyter": {
          "outputs_hidden": false
        },
        "tags": [],
        "id": "HbQs1yRvkkjN"
      },
      "source": [
        "class record():\n",
        "\tdef __init__(self, dat):\n",
        "\t\tself.img1 = str(dat[b'img1'], 'UTF8')\n",
        "\t\tself.img2 = str(dat[b'img2'], 'UTF8')\n",
        "\t\tself.label = dat[b'label']\n",
        "\t\t\n",
        "\tdef __str__(self):\n",
        "\t\treturn f'img1: {self.img1}, img2: {self.img2}, label: {self.label}'\n"
      ],
      "execution_count": null,
      "outputs": []
    },
    {
      "cell_type": "code",
      "metadata": {
        "execution": {
          "iopub.execute_input": "2021-08-21T03:40:54.879486Z",
          "iopub.status.busy": "2021-08-21T03:40:54.879251Z",
          "iopub.status.idle": "2021-08-21T03:40:54.884671Z",
          "shell.execute_reply": "2021-08-21T03:40:54.883878Z",
          "shell.execute_reply.started": "2021-08-21T03:40:54.879463Z"
        },
        "tags": [],
        "id": "IOWhAnzskkjO"
      },
      "source": [
        "dataset = np.load(eroot + '/cfpw-pairs-dataset.npy', allow_pickle=True)\n",
        "# dataset = np.load(os.path.join(eroot, 'lfw-pairs-dataset.npy'), allow_pickle=True)\n",
        "print(\"# image pairs in the dataset = \", len(dataset))"
      ],
      "execution_count": null,
      "outputs": []
    },
    {
      "cell_type": "code",
      "metadata": {
        "execution": {
          "iopub.execute_input": "2021-08-21T03:40:56.588256Z",
          "iopub.status.busy": "2021-08-21T03:40:56.588059Z",
          "iopub.status.idle": "2021-08-21T03:40:59.574740Z",
          "shell.execute_reply": "2021-08-21T03:40:59.573939Z",
          "shell.execute_reply.started": "2021-08-21T03:40:56.588235Z"
        },
        "tags": [],
        "id": "OATD4ffYkkjP"
      },
      "source": [
        "vggFace = loadVGGModel(os.path.join(root, 'VGGFace16.pth'))\n",
        "vggFace = vggFace.to(device)"
      ],
      "execution_count": null,
      "outputs": []
    },
    {
      "cell_type": "markdown",
      "metadata": {
        "id": "7ymkpCepkkjQ"
      },
      "source": [
        "We initialize the Siamese network architecture and some other hyperparameters related to training."
      ]
    },
    {
      "cell_type": "code",
      "metadata": {
        "execution": {
          "iopub.execute_input": "2021-08-21T03:41:01.043030Z",
          "iopub.status.busy": "2021-08-21T03:41:01.042823Z",
          "iopub.status.idle": "2021-08-21T03:41:01.049354Z",
          "shell.execute_reply": "2021-08-21T03:41:01.048828Z",
          "shell.execute_reply.started": "2021-08-21T03:41:01.043008Z"
        },
        "tags": [],
        "id": "1F4Izmg6kkjQ"
      },
      "source": [
        "torch.manual_seed(0)\n",
        "np.random.seed(0)\n",
        "\n",
        "net = Siamese()\n",
        "criterion = torch.nn.HingeEmbeddingLoss()\n",
        "optimizer = optim.SGD(net.parameters(), lr=0.00005, weight_decay=0.0005)\n",
        "\n",
        "net = net.to(device)\n"
      ],
      "execution_count": null,
      "outputs": []
    },
    {
      "cell_type": "markdown",
      "metadata": {
        "id": "PJwKWGKMkkjR"
      },
      "source": [
        "### Loss Function\n",
        "The loss function that we use here is called the Hinge Embedding loss. It's formulation is given below -- \n",
        "\n",
        "loss $ (x, y) = \\left( \\frac{1+y}{2} \\right) \\; x + \\left ( \\frac{1-y}{2} \\right ) \\max\\;(0, margin \\; - \\; x) $\n",
        "\n",
        "where x is the L2 distance between the pair of input images and $y \\in \\{ +1, -1 \\}$ is the label for the image pair. As you can see, for similar image pairs with a class label of y = 1, the loss tries to minimize the L2 distance whereas for dissimilar image pairs, it tries to push the distance to be greater than the hyperparameter margin.\n",
        "\n",
        "Before we start training, let us look at the verification metrics on our dataset of 100 image pairs."
      ]
    },
    {
      "cell_type": "code",
      "metadata": {
        "execution": {
          "iopub.execute_input": "2021-08-21T03:41:01.987519Z",
          "iopub.status.busy": "2021-08-21T03:41:01.987316Z",
          "iopub.status.idle": "2021-08-21T03:41:03.201133Z",
          "shell.execute_reply": "2021-08-21T03:41:03.200337Z",
          "shell.execute_reply.started": "2021-08-21T03:41:01.987498Z"
        },
        "jupyter": {
          "outputs_hidden": false
        },
        "tags": [],
        "id": "Npwd-b70kkjR"
      },
      "source": [
        "# Before training\n",
        "\n",
        "scores, labels = evaluate(net, dataset)\n",
        "verifMetric = Metrics(scores, labels)\n",
        "avgDistSim, avgDistDiss = verifMetric.getAvgDist()\n",
        "print(\"avgDistSim = \", avgDistSim, \", avgDistDiss = \", avgDistDiss)\n",
        "\n",
        "eer, auc, fpr, tpr = verifMetric.getROC()\n",
        "print(\"EER = \", eer, \", AUC = \", auc)"
      ],
      "execution_count": null,
      "outputs": []
    },
    {
      "cell_type": "markdown",
      "metadata": {
        "id": "oo5J3bfXkkjS"
      },
      "source": [
        "Given below is the code for training our Siamese network using image pairs from the dataset."
      ]
    },
    {
      "cell_type": "code",
      "metadata": {
        "execution": {
          "iopub.execute_input": "2021-08-21T03:41:03.385390Z",
          "iopub.status.busy": "2021-08-21T03:41:03.385042Z",
          "iopub.status.idle": "2021-08-21T03:41:05.788747Z",
          "shell.execute_reply": "2021-08-21T03:41:05.787834Z",
          "shell.execute_reply.started": "2021-08-21T03:41:03.385351Z"
        },
        "jupyter": {
          "outputs_hidden": false
        },
        "tags": [],
        "id": "42MbFzB2kkjS"
      },
      "source": [
        "nEpochs, nPairs, batchSize = 2, len(dataset), 10\n",
        "for epochCtr in range(nEpochs):\n",
        "    \n",
        "\tshuffle = np.random.permutation(nPairs)\n",
        "\trunningLoss, iterCnt = 0.0, 0\n",
        "\tfor startIdx in range(0, nPairs, batchSize):\n",
        "\t\tendIdx = min(startIdx + batchSize - 1, nPairs - 1)\n",
        "\t\tsize = endIdx - startIdx + 1\n",
        "\n",
        "\t\timgPaths1, imgPaths2, labels = [], [], []\n",
        "\t\tfor offset in range(size):\n",
        "\t\t\tpair = dataset[shuffle[startIdx+offset]]\n",
        "\t\t\timgPaths1.append(os.path.join(eroot, pair.img1))\n",
        "\t\t\timgPaths2.append(os.path.join(eroot, pair.img2))\n",
        "\t\t\tlabels.append(int(pair.label))\n",
        "\n",
        "\t\tdescrs1 = getVggFeatures(imgPaths1, vggFace).clone()\n",
        "\t\tdescrs2 = getVggFeatures(imgPaths2, vggFace).clone()\n",
        "\n",
        "\t\tbatchOutput = net(descrs1.to(device), descrs2.to(device))\n",
        "\t\toptimizer.zero_grad()\n",
        "\t\tloss = criterion(batchOutput, torch.Tensor(labels).to(device))\n",
        "\t\tloss.backward()\n",
        "\t\toptimizer.step()\n",
        "\n",
        "\t\trunningLoss += loss.item()\n",
        "\t\titerCnt += 1\n",
        "\n",
        "\tprint(\"epoch \", epochCtr, \"/\", nEpochs, \": loss = \", runningLoss/iterCnt )"
      ],
      "execution_count": null,
      "outputs": []
    },
    {
      "cell_type": "markdown",
      "metadata": {
        "id": "rqRPRmvWkkjT"
      },
      "source": [
        "After we are done training, let us take a look at the same metrics once again."
      ]
    },
    {
      "cell_type": "code",
      "metadata": {
        "execution": {
          "iopub.execute_input": "2021-08-21T03:41:09.424413Z",
          "iopub.status.busy": "2021-08-21T03:41:09.424157Z",
          "iopub.status.idle": "2021-08-21T03:41:10.696734Z",
          "shell.execute_reply": "2021-08-21T03:41:10.695834Z",
          "shell.execute_reply.started": "2021-08-21T03:41:09.424387Z"
        },
        "jupyter": {
          "outputs_hidden": false
        },
        "tags": [],
        "id": "gW2eiC9ZkkjU"
      },
      "source": [
        "# After training\n",
        "\n",
        "scores, labels = evaluate(net, dataset)\n",
        "verifMetric = Metrics(scores, labels)\n",
        "avgDistSim, avgDistDiss = verifMetric.getAvgDist()\n",
        "print(\"avgDistSim = \", avgDistSim, \", avgDistDiss = \", avgDistDiss)\n",
        "\n",
        "eer, auc, fpr, tpr = verifMetric.getROC()\n",
        "print(\"EER = \", eer, \", AUC = \", auc)"
      ],
      "execution_count": null,
      "outputs": []
    },
    {
      "cell_type": "markdown",
      "metadata": {
        "id": "Z_PLY56pkkjV"
      },
      "source": [
        "We see that there is a significant increase in the verification performance as a result of metric learning. Also, note that the gap between the distances of the similar and dissimilar face pairs has increased. What makes these results even more interesting is the fact that these values are better than what we obtained in the previous tutorial. Recall that previously, we were working with 4096-d descriptors whereas now we have only 64-d descriptors.\n",
        "\n",
        "### Exercises\n",
        "1. These AUC metric that we obtain for verification prior to training is significantly worse than what we observed in the previous tutorial. Why is that so?\n",
        "\n",
        "2. As part of the binary classification metrics, we have computed a quantity called the EER which stands for Equal Error Rate. What does it represent? By looking at the way it has been evaluated and the documentation for the functions used, can you figure out it's relation to fpr/tpr?\n",
        "\n",
        "3. Also, given the code to compute EER, go back to the previous tutorial on Face Verification and compute the EER for the CFPW and the LFW datasets."
      ]
    }
  ]
}